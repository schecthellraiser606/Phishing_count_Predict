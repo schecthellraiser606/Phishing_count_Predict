{
 "cells": [
  {
   "cell_type": "code",
   "execution_count": null,
   "metadata": {},
   "outputs": [],
   "source": [
    "import Predict_Model_1 as P1\n",
    "import Predict_Model_2 as P2\n",
    " \n",
    " \n",
    " M = 1\n",
    " days = 62\n",
    " time =10\n",
    " \n",
    " if M == 1:\n",
    "    P1.Model_1(days)\n",
    " elif M == 2\n",
    "    P2_Model_2(days, time)\n",
    " else:\n",
    "    print(\"なんかおかしい！\")     \n",
    "      "
   ]
  }
 ],
 "metadata": {
  "language_info": {
   "name": "python"
  },
  "orig_nbformat": 4
 },
 "nbformat": 4,
 "nbformat_minor": 2
}
